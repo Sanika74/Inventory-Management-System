{
 "cells": [
  {
   "cell_type": "markdown",
   "metadata": {
    "id": "j9rSMgKytN9V"
   },
   "source": [
    "## Read Data from JSON"
   ]
  },
  {
   "cell_type": "code",
   "execution_count": 3,
   "metadata": {
    "id": "wlQdKmzYpRok"
   },
   "outputs": [],
   "source": [
    "import json\n",
    "fd = open(\"record.json\",'r')\n",
    "r = fd.read()\n",
    "fd.close()\n",
    "\n",
    "record = json.loads(r)"
   ]
  },
  {
   "cell_type": "code",
   "execution_count": 4,
   "metadata": {
    "colab": {
     "base_uri": "https://localhost:8080/"
    },
    "id": "N8fCrfQHqlUN",
    "outputId": "04f7a640-bbad-429c-d7d1-686ca5ec14e2"
   },
   "outputs": [
    {
     "data": {
      "text/plain": [
       "{'1001': {'name': 'Choco Cake', 'qn': 34, 'pr': 100},\n",
       " '1002': {'name': 'Milk Cake', 'pr': 800, 'qn': 100},\n",
       " '1003': {'name': 'Drink', 'pr': 85, 'qn': 100},\n",
       " '1004': {'name': 'Candy', 'pr': 5, 'qn': 1000},\n",
       " '1005': {'name': 'Pen', 'pr': 20, 'qn': 100},\n",
       " '1006': {'name': 'Phone', 'pr': 50000, 'qn': 10},\n",
       " '1007': {'name': 'Mic', 'pr': 1500, 'qn': 0},\n",
       " '1008': {'name': 'Case', 'pr': 599, 'qn': 5},\n",
       " '1009': {'name': 'Keyboard', 'pr': 1999, 'qn': 10},\n",
       " '1010': {'name': 'Mouse', 'pr': 300, 'qn': 85}}"
      ]
     },
     "execution_count": 4,
     "metadata": {},
     "output_type": "execute_result"
    }
   ],
   "source": [
    "record"
   ]
  },
  {
   "cell_type": "markdown",
   "metadata": {
    "id": "fNniKChHtFsH"
   },
   "source": [
    "## Add New Item into Inventory"
   ]
  },
  {
   "cell_type": "code",
   "execution_count": 5,
   "metadata": {
    "colab": {
     "base_uri": "https://localhost:8080/"
    },
    "id": "f61BridoqxZN",
    "outputId": "4919a5d7-b839-41df-ec08-b4f39107e984"
   },
   "outputs": [
    {
     "name": "stdout",
     "output_type": "stream",
     "text": [
      "Enter product id:1011\n",
      "Enter name:Bluetooth\n",
      "Enter price:5000\n",
      "Enter quantity:550\n"
     ]
    }
   ],
   "source": [
    "prod_id = str(input(\"Enter product id:\"))\n",
    "name = str(input(\"Enter name:\"))\n",
    "pr = int(input(\"Enter price:\"))\n",
    "qn = int(input(\"Enter quantity:\"))\n",
    "\n",
    "record[prod_id] = {'name': name, 'pr': pr, 'qn': qn}\n",
    "\n",
    "js = json.dumps(record)\n",
    "\n",
    "fd = open(\"record.json\",'w')\n",
    "fd.write(js)\n",
    "fd.close()"
   ]
  },
  {
   "cell_type": "code",
   "execution_count": 6,
   "metadata": {
    "colab": {
     "base_uri": "https://localhost:8080/"
    },
    "id": "fqLcVGqqt_cO",
    "outputId": "889a130b-8562-4a35-d430-645ff64724d3"
   },
   "outputs": [
    {
     "data": {
      "text/plain": [
       "{'1001': {'name': 'Choco Cake', 'qn': 34, 'pr': 100},\n",
       " '1002': {'name': 'Milk Cake', 'pr': 800, 'qn': 100},\n",
       " '1003': {'name': 'Drink', 'pr': 85, 'qn': 100},\n",
       " '1004': {'name': 'Candy', 'pr': 5, 'qn': 1000},\n",
       " '1005': {'name': 'Pen', 'pr': 20, 'qn': 100},\n",
       " '1006': {'name': 'Phone', 'pr': 50000, 'qn': 10},\n",
       " '1007': {'name': 'Mic', 'pr': 1500, 'qn': 0},\n",
       " '1008': {'name': 'Case', 'pr': 599, 'qn': 5},\n",
       " '1009': {'name': 'Keyboard', 'pr': 1999, 'qn': 10},\n",
       " '1010': {'name': 'Mouse', 'pr': 300, 'qn': 85},\n",
       " '1011': {'name': 'Bluetooth', 'pr': 5000, 'qn': 550}}"
      ]
     },
     "execution_count": 6,
     "metadata": {},
     "output_type": "execute_result"
    }
   ],
   "source": [
    "record"
   ]
  },
  {
   "cell_type": "code",
   "execution_count": 7,
   "metadata": {
    "id": "Mh8xAFUk7qFv"
   },
   "outputs": [
    {
     "name": "stdout",
     "output_type": "stream",
     "text": [
      "Enter product id:1012\n",
      "Enter name:Headset\n",
      "Enter price:600\n",
      "Enter quantity:100\n"
     ]
    }
   ],
   "source": [
    "prod_id = str(input(\"Enter product id:\"))\n",
    "name = str(input(\"Enter name:\"))\n",
    "pr = int(input(\"Enter price:\"))\n",
    "qn = int(input(\"Enter quantity:\"))\n",
    "\n",
    "record[prod_id] = {'name': name, 'pr': pr, 'qn': qn}\n",
    "\n",
    "js = json.dumps(record)\n",
    "\n",
    "fd = open(\"record.json\",'w')\n",
    "fd.write(js)\n",
    "fd.close()"
   ]
  },
  {
   "cell_type": "code",
   "execution_count": 8,
   "metadata": {
    "colab": {
     "base_uri": "https://localhost:8080/"
    },
    "id": "n0UdHaVVFFLB",
    "outputId": "af2d581b-583d-4be6-fd62-425bcd2343ea"
   },
   "outputs": [
    {
     "data": {
      "text/plain": [
       "{'1001': {'name': 'Choco Cake', 'qn': 34, 'pr': 100},\n",
       " '1002': {'name': 'Milk Cake', 'pr': 800, 'qn': 100},\n",
       " '1003': {'name': 'Drink', 'pr': 85, 'qn': 100},\n",
       " '1004': {'name': 'Candy', 'pr': 5, 'qn': 1000},\n",
       " '1005': {'name': 'Pen', 'pr': 20, 'qn': 100},\n",
       " '1006': {'name': 'Phone', 'pr': 50000, 'qn': 10},\n",
       " '1007': {'name': 'Mic', 'pr': 1500, 'qn': 0},\n",
       " '1008': {'name': 'Case', 'pr': 599, 'qn': 5},\n",
       " '1009': {'name': 'Keyboard', 'pr': 1999, 'qn': 10},\n",
       " '1010': {'name': 'Mouse', 'pr': 300, 'qn': 85},\n",
       " '1011': {'name': 'Bluetooth', 'pr': 5000, 'qn': 550},\n",
       " '1012': {'name': 'Headset', 'pr': 600, 'qn': 100}}"
      ]
     },
     "execution_count": 8,
     "metadata": {},
     "output_type": "execute_result"
    }
   ],
   "source": [
    "record"
   ]
  },
  {
   "cell_type": "code",
   "execution_count": 9,
   "metadata": {
    "id": "zUa1OcFMFFmq"
   },
   "outputs": [
    {
     "name": "stdout",
     "output_type": "stream",
     "text": [
      "Enter product id:1013\n",
      "Enter name:Bottle\n",
      "Enter price:850\n",
      "Enter quantity:250\n"
     ]
    }
   ],
   "source": [
    "prod_id = str(input(\"Enter product id:\"))\n",
    "name = str(input(\"Enter name:\"))\n",
    "pr = int(input(\"Enter price:\"))\n",
    "qn = int(input(\"Enter quantity:\"))\n",
    "\n",
    "record[prod_id] = {'name': name, 'pr': pr, 'qn': qn}\n",
    "\n",
    "js = json.dumps(record)\n",
    "\n",
    "fd = open(\"record.json\",'w')\n",
    "fd.write(js)\n",
    "fd.close()"
   ]
  },
  {
   "cell_type": "code",
   "execution_count": 10,
   "metadata": {},
   "outputs": [
    {
     "data": {
      "text/plain": [
       "{'1001': {'name': 'Choco Cake', 'qn': 34, 'pr': 100},\n",
       " '1002': {'name': 'Milk Cake', 'pr': 800, 'qn': 100},\n",
       " '1003': {'name': 'Drink', 'pr': 85, 'qn': 100},\n",
       " '1004': {'name': 'Candy', 'pr': 5, 'qn': 1000},\n",
       " '1005': {'name': 'Pen', 'pr': 20, 'qn': 100},\n",
       " '1006': {'name': 'Phone', 'pr': 50000, 'qn': 10},\n",
       " '1007': {'name': 'Mic', 'pr': 1500, 'qn': 0},\n",
       " '1008': {'name': 'Case', 'pr': 599, 'qn': 5},\n",
       " '1009': {'name': 'Keyboard', 'pr': 1999, 'qn': 10},\n",
       " '1010': {'name': 'Mouse', 'pr': 300, 'qn': 85},\n",
       " '1011': {'name': 'Bluetooth', 'pr': 5000, 'qn': 550},\n",
       " '1012': {'name': 'Headset', 'pr': 600, 'qn': 100},\n",
       " '1013': {'name': 'Bottle', 'pr': 850, 'qn': 250}}"
      ]
     },
     "execution_count": 10,
     "metadata": {},
     "output_type": "execute_result"
    }
   ],
   "source": [
    "record"
   ]
  },
  {
   "cell_type": "code",
   "execution_count": 11,
   "metadata": {},
   "outputs": [
    {
     "name": "stdout",
     "output_type": "stream",
     "text": [
      "Enter product id:1014\n",
      "Enter name:Speaker\n",
      "Enter price:6500\n",
      "Enter quantity:700\n"
     ]
    }
   ],
   "source": [
    "prod_id = str(input(\"Enter product id:\"))\n",
    "name = str(input(\"Enter name:\"))\n",
    "pr = int(input(\"Enter price:\"))\n",
    "qn = int(input(\"Enter quantity:\"))\n",
    "\n",
    "record[prod_id] = {'name': name, 'pr': pr, 'qn': qn}\n",
    "\n",
    "js = json.dumps(record)\n",
    "\n",
    "fd = open(\"record.json\",'w')\n",
    "fd.write(js)\n",
    "fd.close()"
   ]
  },
  {
   "cell_type": "code",
   "execution_count": 12,
   "metadata": {},
   "outputs": [
    {
     "data": {
      "text/plain": [
       "{'1001': {'name': 'Choco Cake', 'qn': 34, 'pr': 100},\n",
       " '1002': {'name': 'Milk Cake', 'pr': 800, 'qn': 100},\n",
       " '1003': {'name': 'Drink', 'pr': 85, 'qn': 100},\n",
       " '1004': {'name': 'Candy', 'pr': 5, 'qn': 1000},\n",
       " '1005': {'name': 'Pen', 'pr': 20, 'qn': 100},\n",
       " '1006': {'name': 'Phone', 'pr': 50000, 'qn': 10},\n",
       " '1007': {'name': 'Mic', 'pr': 1500, 'qn': 0},\n",
       " '1008': {'name': 'Case', 'pr': 599, 'qn': 5},\n",
       " '1009': {'name': 'Keyboard', 'pr': 1999, 'qn': 10},\n",
       " '1010': {'name': 'Mouse', 'pr': 300, 'qn': 85},\n",
       " '1011': {'name': 'Bluetooth', 'pr': 5000, 'qn': 550},\n",
       " '1012': {'name': 'Headset', 'pr': 600, 'qn': 100},\n",
       " '1013': {'name': 'Bottle', 'pr': 850, 'qn': 250},\n",
       " '1014': {'name': 'Speaker', 'pr': 6500, 'qn': 700}}"
      ]
     },
     "execution_count": 12,
     "metadata": {},
     "output_type": "execute_result"
    }
   ],
   "source": [
    "record"
   ]
  },
  {
   "cell_type": "code",
   "execution_count": 13,
   "metadata": {},
   "outputs": [
    {
     "name": "stdout",
     "output_type": "stream",
     "text": [
      "Enter product id:1015\n",
      "Enter name:Charger\n",
      "Enter price:350\n",
      "Enter quantity:500\n"
     ]
    }
   ],
   "source": [
    "prod_id = str(input(\"Enter product id:\"))\n",
    "name = str(input(\"Enter name:\"))\n",
    "pr = int(input(\"Enter price:\"))\n",
    "qn = int(input(\"Enter quantity:\"))\n",
    "\n",
    "record[prod_id] = {'name': name, 'pr': pr, 'qn': qn}\n",
    "\n",
    "js = json.dumps(record)\n",
    "\n",
    "fd = open(\"record.json\",'w')\n",
    "fd.write(js)\n",
    "fd.close()"
   ]
  },
  {
   "cell_type": "code",
   "execution_count": 14,
   "metadata": {},
   "outputs": [
    {
     "data": {
      "text/plain": [
       "{'1001': {'name': 'Choco Cake', 'qn': 34, 'pr': 100},\n",
       " '1002': {'name': 'Milk Cake', 'pr': 800, 'qn': 100},\n",
       " '1003': {'name': 'Drink', 'pr': 85, 'qn': 100},\n",
       " '1004': {'name': 'Candy', 'pr': 5, 'qn': 1000},\n",
       " '1005': {'name': 'Pen', 'pr': 20, 'qn': 100},\n",
       " '1006': {'name': 'Phone', 'pr': 50000, 'qn': 10},\n",
       " '1007': {'name': 'Mic', 'pr': 1500, 'qn': 0},\n",
       " '1008': {'name': 'Case', 'pr': 599, 'qn': 5},\n",
       " '1009': {'name': 'Keyboard', 'pr': 1999, 'qn': 10},\n",
       " '1010': {'name': 'Mouse', 'pr': 300, 'qn': 85},\n",
       " '1011': {'name': 'Bluetooth', 'pr': 5000, 'qn': 550},\n",
       " '1012': {'name': 'Headset', 'pr': 600, 'qn': 100},\n",
       " '1013': {'name': 'Bottle', 'pr': 850, 'qn': 250},\n",
       " '1014': {'name': 'Speaker', 'pr': 6500, 'qn': 700},\n",
       " '1015': {'name': 'Charger', 'pr': 350, 'qn': 500}}"
      ]
     },
     "execution_count": 14,
     "metadata": {},
     "output_type": "execute_result"
    }
   ],
   "source": [
    "record"
   ]
  },
  {
   "cell_type": "code",
   "execution_count": 15,
   "metadata": {},
   "outputs": [
    {
     "name": "stdout",
     "output_type": "stream",
     "text": [
      "Enter product id:1016\n",
      "Enter name:Phone Case\n",
      "Enter price:600\n",
      "Enter quantity:750\n"
     ]
    }
   ],
   "source": [
    "prod_id = str(input(\"Enter product id:\"))\n",
    "name = str(input(\"Enter name:\"))\n",
    "pr = int(input(\"Enter price:\"))\n",
    "qn = int(input(\"Enter quantity:\"))\n",
    "\n",
    "record[prod_id] = {'name': name, 'pr': pr, 'qn': qn}\n",
    "\n",
    "js = json.dumps(record)\n",
    "\n",
    "fd = open(\"record.json\",'w')\n",
    "fd.write(js)\n",
    "fd.close()"
   ]
  },
  {
   "cell_type": "code",
   "execution_count": 16,
   "metadata": {},
   "outputs": [
    {
     "data": {
      "text/plain": [
       "{'1001': {'name': 'Choco Cake', 'qn': 34, 'pr': 100},\n",
       " '1002': {'name': 'Milk Cake', 'pr': 800, 'qn': 100},\n",
       " '1003': {'name': 'Drink', 'pr': 85, 'qn': 100},\n",
       " '1004': {'name': 'Candy', 'pr': 5, 'qn': 1000},\n",
       " '1005': {'name': 'Pen', 'pr': 20, 'qn': 100},\n",
       " '1006': {'name': 'Phone', 'pr': 50000, 'qn': 10},\n",
       " '1007': {'name': 'Mic', 'pr': 1500, 'qn': 0},\n",
       " '1008': {'name': 'Case', 'pr': 599, 'qn': 5},\n",
       " '1009': {'name': 'Keyboard', 'pr': 1999, 'qn': 10},\n",
       " '1010': {'name': 'Mouse', 'pr': 300, 'qn': 85},\n",
       " '1011': {'name': 'Bluetooth', 'pr': 5000, 'qn': 550},\n",
       " '1012': {'name': 'Headset', 'pr': 600, 'qn': 100},\n",
       " '1013': {'name': 'Bottle', 'pr': 850, 'qn': 250},\n",
       " '1014': {'name': 'Speaker', 'pr': 6500, 'qn': 700},\n",
       " '1015': {'name': 'Charger', 'pr': 350, 'qn': 500},\n",
       " '1016': {'name': 'Phone Case', 'pr': 600, 'qn': 750}}"
      ]
     },
     "execution_count": 16,
     "metadata": {},
     "output_type": "execute_result"
    }
   ],
   "source": [
    "record"
   ]
  },
  {
   "cell_type": "code",
   "execution_count": 17,
   "metadata": {},
   "outputs": [
    {
     "name": "stdout",
     "output_type": "stream",
     "text": [
      "Enter product id:1017\n",
      "Enter name:Record Book\n",
      "Enter price:450\n",
      "Enter quantity:600\n"
     ]
    }
   ],
   "source": [
    "prod_id = str(input(\"Enter product id:\"))\n",
    "name = str(input(\"Enter name:\"))\n",
    "pr = int(input(\"Enter price:\"))\n",
    "qn = int(input(\"Enter quantity:\"))\n",
    "\n",
    "record[prod_id] = {'name': name, 'pr': pr, 'qn': qn}\n",
    "\n",
    "js = json.dumps(record)\n",
    "\n",
    "fd = open(\"record.json\",'w')\n",
    "fd.write(js)\n",
    "fd.close()"
   ]
  },
  {
   "cell_type": "code",
   "execution_count": 18,
   "metadata": {},
   "outputs": [
    {
     "data": {
      "text/plain": [
       "{'1001': {'name': 'Choco Cake', 'qn': 34, 'pr': 100},\n",
       " '1002': {'name': 'Milk Cake', 'pr': 800, 'qn': 100},\n",
       " '1003': {'name': 'Drink', 'pr': 85, 'qn': 100},\n",
       " '1004': {'name': 'Candy', 'pr': 5, 'qn': 1000},\n",
       " '1005': {'name': 'Pen', 'pr': 20, 'qn': 100},\n",
       " '1006': {'name': 'Phone', 'pr': 50000, 'qn': 10},\n",
       " '1007': {'name': 'Mic', 'pr': 1500, 'qn': 0},\n",
       " '1008': {'name': 'Case', 'pr': 599, 'qn': 5},\n",
       " '1009': {'name': 'Keyboard', 'pr': 1999, 'qn': 10},\n",
       " '1010': {'name': 'Mouse', 'pr': 300, 'qn': 85},\n",
       " '1011': {'name': 'Bluetooth', 'pr': 5000, 'qn': 550},\n",
       " '1012': {'name': 'Headset', 'pr': 600, 'qn': 100},\n",
       " '1013': {'name': 'Bottle', 'pr': 850, 'qn': 250},\n",
       " '1014': {'name': 'Speaker', 'pr': 6500, 'qn': 700},\n",
       " '1015': {'name': 'Charger', 'pr': 350, 'qn': 500},\n",
       " '1016': {'name': 'Phone Case', 'pr': 600, 'qn': 750},\n",
       " '1017': {'name': 'Record Book', 'pr': 450, 'qn': 600}}"
      ]
     },
     "execution_count": 18,
     "metadata": {},
     "output_type": "execute_result"
    }
   ],
   "source": [
    "record"
   ]
  },
  {
   "cell_type": "code",
   "execution_count": 19,
   "metadata": {},
   "outputs": [
    {
     "name": "stdout",
     "output_type": "stream",
     "text": [
      "Enter product id:1018\n",
      "Enter name:Waffy\n",
      "Enter price:540\n",
      "Enter quantity:900\n"
     ]
    }
   ],
   "source": [
    "prod_id = str(input(\"Enter product id:\"))\n",
    "name = str(input(\"Enter name:\"))\n",
    "pr = int(input(\"Enter price:\"))\n",
    "qn = int(input(\"Enter quantity:\"))\n",
    "\n",
    "record[prod_id] = {'name': name, 'pr': pr, 'qn': qn}\n",
    "\n",
    "js = json.dumps(record)\n",
    "\n",
    "fd = open(\"record.json\",'w')\n",
    "fd.write(js)\n",
    "fd.close()"
   ]
  },
  {
   "cell_type": "code",
   "execution_count": 20,
   "metadata": {},
   "outputs": [
    {
     "data": {
      "text/plain": [
       "{'1001': {'name': 'Choco Cake', 'qn': 34, 'pr': 100},\n",
       " '1002': {'name': 'Milk Cake', 'pr': 800, 'qn': 100},\n",
       " '1003': {'name': 'Drink', 'pr': 85, 'qn': 100},\n",
       " '1004': {'name': 'Candy', 'pr': 5, 'qn': 1000},\n",
       " '1005': {'name': 'Pen', 'pr': 20, 'qn': 100},\n",
       " '1006': {'name': 'Phone', 'pr': 50000, 'qn': 10},\n",
       " '1007': {'name': 'Mic', 'pr': 1500, 'qn': 0},\n",
       " '1008': {'name': 'Case', 'pr': 599, 'qn': 5},\n",
       " '1009': {'name': 'Keyboard', 'pr': 1999, 'qn': 10},\n",
       " '1010': {'name': 'Mouse', 'pr': 300, 'qn': 85},\n",
       " '1011': {'name': 'Bluetooth', 'pr': 5000, 'qn': 550},\n",
       " '1012': {'name': 'Headset', 'pr': 600, 'qn': 100},\n",
       " '1013': {'name': 'Bottle', 'pr': 850, 'qn': 250},\n",
       " '1014': {'name': 'Speaker', 'pr': 6500, 'qn': 700},\n",
       " '1015': {'name': 'Charger', 'pr': 350, 'qn': 500},\n",
       " '1016': {'name': 'Phone Case', 'pr': 600, 'qn': 750},\n",
       " '1017': {'name': 'Record Book', 'pr': 450, 'qn': 600},\n",
       " '1018': {'name': 'Waffy', 'pr': 540, 'qn': 900}}"
      ]
     },
     "execution_count": 20,
     "metadata": {},
     "output_type": "execute_result"
    }
   ],
   "source": [
    "record"
   ]
  },
  {
   "cell_type": "code",
   "execution_count": 21,
   "metadata": {},
   "outputs": [
    {
     "name": "stdout",
     "output_type": "stream",
     "text": [
      "Enter product id:1019\n",
      "Enter name:Jolo Chips\n",
      "Enter price:250\n",
      "Enter quantity:750\n"
     ]
    }
   ],
   "source": [
    "prod_id = str(input(\"Enter product id:\"))\n",
    "name = str(input(\"Enter name:\"))\n",
    "pr = int(input(\"Enter price:\"))\n",
    "qn = int(input(\"Enter quantity:\"))\n",
    "\n",
    "record[prod_id] = {'name': name, 'pr': pr, 'qn': qn}\n",
    "\n",
    "js = json.dumps(record)\n",
    "\n",
    "fd = open(\"record.json\",'w')\n",
    "fd.write(js)\n",
    "fd.close()"
   ]
  },
  {
   "cell_type": "code",
   "execution_count": 22,
   "metadata": {},
   "outputs": [
    {
     "data": {
      "text/plain": [
       "{'1001': {'name': 'Choco Cake', 'qn': 34, 'pr': 100},\n",
       " '1002': {'name': 'Milk Cake', 'pr': 800, 'qn': 100},\n",
       " '1003': {'name': 'Drink', 'pr': 85, 'qn': 100},\n",
       " '1004': {'name': 'Candy', 'pr': 5, 'qn': 1000},\n",
       " '1005': {'name': 'Pen', 'pr': 20, 'qn': 100},\n",
       " '1006': {'name': 'Phone', 'pr': 50000, 'qn': 10},\n",
       " '1007': {'name': 'Mic', 'pr': 1500, 'qn': 0},\n",
       " '1008': {'name': 'Case', 'pr': 599, 'qn': 5},\n",
       " '1009': {'name': 'Keyboard', 'pr': 1999, 'qn': 10},\n",
       " '1010': {'name': 'Mouse', 'pr': 300, 'qn': 85},\n",
       " '1011': {'name': 'Bluetooth', 'pr': 5000, 'qn': 550},\n",
       " '1012': {'name': 'Headset', 'pr': 600, 'qn': 100},\n",
       " '1013': {'name': 'Bottle', 'pr': 850, 'qn': 250},\n",
       " '1014': {'name': 'Speaker', 'pr': 6500, 'qn': 700},\n",
       " '1015': {'name': 'Charger', 'pr': 350, 'qn': 500},\n",
       " '1016': {'name': 'Phone Case', 'pr': 600, 'qn': 750},\n",
       " '1017': {'name': 'Record Book', 'pr': 450, 'qn': 600},\n",
       " '1018': {'name': 'Waffy', 'pr': 540, 'qn': 900},\n",
       " '1019': {'name': 'Jolo Chips', 'pr': 250, 'qn': 750}}"
      ]
     },
     "execution_count": 22,
     "metadata": {},
     "output_type": "execute_result"
    }
   ],
   "source": [
    "record"
   ]
  },
  {
   "cell_type": "code",
   "execution_count": 23,
   "metadata": {},
   "outputs": [
    {
     "name": "stdout",
     "output_type": "stream",
     "text": [
      "Enter product id:1020\n",
      "Enter name:Muffins\n",
      "Enter price:275\n",
      "Enter quantity:550\n"
     ]
    }
   ],
   "source": [
    "prod_id = str(input(\"Enter product id:\"))\n",
    "name = str(input(\"Enter name:\"))\n",
    "pr = int(input(\"Enter price:\"))\n",
    "qn = int(input(\"Enter quantity:\"))\n",
    "\n",
    "record[prod_id] = {'name': name, 'pr': pr, 'qn': qn}\n",
    "\n",
    "js = json.dumps(record)\n",
    "\n",
    "fd = open(\"record.json\",'w')\n",
    "fd.write(js)\n",
    "fd.close()"
   ]
  },
  {
   "cell_type": "code",
   "execution_count": 24,
   "metadata": {},
   "outputs": [
    {
     "data": {
      "text/plain": [
       "{'1001': {'name': 'Choco Cake', 'qn': 34, 'pr': 100},\n",
       " '1002': {'name': 'Milk Cake', 'pr': 800, 'qn': 100},\n",
       " '1003': {'name': 'Drink', 'pr': 85, 'qn': 100},\n",
       " '1004': {'name': 'Candy', 'pr': 5, 'qn': 1000},\n",
       " '1005': {'name': 'Pen', 'pr': 20, 'qn': 100},\n",
       " '1006': {'name': 'Phone', 'pr': 50000, 'qn': 10},\n",
       " '1007': {'name': 'Mic', 'pr': 1500, 'qn': 0},\n",
       " '1008': {'name': 'Case', 'pr': 599, 'qn': 5},\n",
       " '1009': {'name': 'Keyboard', 'pr': 1999, 'qn': 10},\n",
       " '1010': {'name': 'Mouse', 'pr': 300, 'qn': 85},\n",
       " '1011': {'name': 'Bluetooth', 'pr': 5000, 'qn': 550},\n",
       " '1012': {'name': 'Headset', 'pr': 600, 'qn': 100},\n",
       " '1013': {'name': 'Bottle', 'pr': 850, 'qn': 250},\n",
       " '1014': {'name': 'Speaker', 'pr': 6500, 'qn': 700},\n",
       " '1015': {'name': 'Charger', 'pr': 350, 'qn': 500},\n",
       " '1016': {'name': 'Phone Case', 'pr': 600, 'qn': 750},\n",
       " '1017': {'name': 'Record Book', 'pr': 450, 'qn': 600},\n",
       " '1018': {'name': 'Waffy', 'pr': 540, 'qn': 900},\n",
       " '1019': {'name': 'Jolo Chips', 'pr': 250, 'qn': 750},\n",
       " '1020': {'name': 'Muffins', 'pr': 275, 'qn': 550}}"
      ]
     },
     "execution_count": 24,
     "metadata": {},
     "output_type": "execute_result"
    }
   ],
   "source": [
    "record"
   ]
  },
  {
   "cell_type": "code",
   "execution_count": 25,
   "metadata": {},
   "outputs": [
    {
     "name": "stdout",
     "output_type": "stream",
     "text": [
      "Enter product id:1021\n",
      "Enter name:Donut\n",
      "Enter price:315\n",
      "Enter quantity:450\n"
     ]
    }
   ],
   "source": [
    "prod_id = str(input(\"Enter product id:\"))\n",
    "name = str(input(\"Enter name:\"))\n",
    "pr = int(input(\"Enter price:\"))\n",
    "qn = int(input(\"Enter quantity:\"))\n",
    "\n",
    "record[prod_id] = {'name': name, 'pr': pr, 'qn': qn}\n",
    "\n",
    "js = json.dumps(record)\n",
    "\n",
    "fd = open(\"record.json\",'w')\n",
    "fd.write(js)\n",
    "fd.close()"
   ]
  },
  {
   "cell_type": "code",
   "execution_count": 26,
   "metadata": {},
   "outputs": [
    {
     "data": {
      "text/plain": [
       "{'1001': {'name': 'Choco Cake', 'qn': 34, 'pr': 100},\n",
       " '1002': {'name': 'Milk Cake', 'pr': 800, 'qn': 100},\n",
       " '1003': {'name': 'Drink', 'pr': 85, 'qn': 100},\n",
       " '1004': {'name': 'Candy', 'pr': 5, 'qn': 1000},\n",
       " '1005': {'name': 'Pen', 'pr': 20, 'qn': 100},\n",
       " '1006': {'name': 'Phone', 'pr': 50000, 'qn': 10},\n",
       " '1007': {'name': 'Mic', 'pr': 1500, 'qn': 0},\n",
       " '1008': {'name': 'Case', 'pr': 599, 'qn': 5},\n",
       " '1009': {'name': 'Keyboard', 'pr': 1999, 'qn': 10},\n",
       " '1010': {'name': 'Mouse', 'pr': 300, 'qn': 85},\n",
       " '1011': {'name': 'Bluetooth', 'pr': 5000, 'qn': 550},\n",
       " '1012': {'name': 'Headset', 'pr': 600, 'qn': 100},\n",
       " '1013': {'name': 'Bottle', 'pr': 850, 'qn': 250},\n",
       " '1014': {'name': 'Speaker', 'pr': 6500, 'qn': 700},\n",
       " '1015': {'name': 'Charger', 'pr': 350, 'qn': 500},\n",
       " '1016': {'name': 'Phone Case', 'pr': 600, 'qn': 750},\n",
       " '1017': {'name': 'Record Book', 'pr': 450, 'qn': 600},\n",
       " '1018': {'name': 'Waffy', 'pr': 540, 'qn': 900},\n",
       " '1019': {'name': 'Jolo Chips', 'pr': 250, 'qn': 750},\n",
       " '1020': {'name': 'Muffins', 'pr': 275, 'qn': 550},\n",
       " '1021': {'name': 'Donut', 'pr': 315, 'qn': 450}}"
      ]
     },
     "execution_count": 26,
     "metadata": {},
     "output_type": "execute_result"
    }
   ],
   "source": [
    "record"
   ]
  },
  {
   "cell_type": "code",
   "execution_count": 27,
   "metadata": {},
   "outputs": [
    {
     "name": "stdout",
     "output_type": "stream",
     "text": [
      "Enter product id:1022\n",
      "Enter name:Ketchup\n",
      "Enter price:75\n",
      "Enter quantity:250\n"
     ]
    }
   ],
   "source": [
    "prod_id = str(input(\"Enter product id:\"))\n",
    "name = str(input(\"Enter name:\"))\n",
    "pr = int(input(\"Enter price:\"))\n",
    "qn = int(input(\"Enter quantity:\"))\n",
    "\n",
    "record[prod_id] = {'name': name, 'pr': pr, 'qn': qn}\n",
    "\n",
    "js = json.dumps(record)\n",
    "\n",
    "fd = open(\"record.json\",'w')\n",
    "fd.write(js)\n",
    "fd.close()"
   ]
  },
  {
   "cell_type": "code",
   "execution_count": 28,
   "metadata": {},
   "outputs": [
    {
     "data": {
      "text/plain": [
       "{'1001': {'name': 'Choco Cake', 'qn': 34, 'pr': 100},\n",
       " '1002': {'name': 'Milk Cake', 'pr': 800, 'qn': 100},\n",
       " '1003': {'name': 'Drink', 'pr': 85, 'qn': 100},\n",
       " '1004': {'name': 'Candy', 'pr': 5, 'qn': 1000},\n",
       " '1005': {'name': 'Pen', 'pr': 20, 'qn': 100},\n",
       " '1006': {'name': 'Phone', 'pr': 50000, 'qn': 10},\n",
       " '1007': {'name': 'Mic', 'pr': 1500, 'qn': 0},\n",
       " '1008': {'name': 'Case', 'pr': 599, 'qn': 5},\n",
       " '1009': {'name': 'Keyboard', 'pr': 1999, 'qn': 10},\n",
       " '1010': {'name': 'Mouse', 'pr': 300, 'qn': 85},\n",
       " '1011': {'name': 'Bluetooth', 'pr': 5000, 'qn': 550},\n",
       " '1012': {'name': 'Headset', 'pr': 600, 'qn': 100},\n",
       " '1013': {'name': 'Bottle', 'pr': 850, 'qn': 250},\n",
       " '1014': {'name': 'Speaker', 'pr': 6500, 'qn': 700},\n",
       " '1015': {'name': 'Charger', 'pr': 350, 'qn': 500},\n",
       " '1016': {'name': 'Phone Case', 'pr': 600, 'qn': 750},\n",
       " '1017': {'name': 'Record Book', 'pr': 450, 'qn': 600},\n",
       " '1018': {'name': 'Waffy', 'pr': 540, 'qn': 900},\n",
       " '1019': {'name': 'Jolo Chips', 'pr': 250, 'qn': 750},\n",
       " '1020': {'name': 'Muffins', 'pr': 275, 'qn': 550},\n",
       " '1021': {'name': 'Donut', 'pr': 315, 'qn': 450},\n",
       " '1022': {'name': 'Ketchup', 'pr': 75, 'qn': 250}}"
      ]
     },
     "execution_count": 28,
     "metadata": {},
     "output_type": "execute_result"
    }
   ],
   "source": [
    "record"
   ]
  },
  {
   "cell_type": "code",
   "execution_count": 29,
   "metadata": {},
   "outputs": [
    {
     "name": "stdout",
     "output_type": "stream",
     "text": [
      "Enter product id:1023\n",
      "Enter name:Soya Sauce\n",
      "Enter price:105\n",
      "Enter quantity:150\n"
     ]
    }
   ],
   "source": [
    "prod_id = str(input(\"Enter product id:\"))\n",
    "name = str(input(\"Enter name:\"))\n",
    "pr = int(input(\"Enter price:\"))\n",
    "qn = int(input(\"Enter quantity:\"))\n",
    "\n",
    "record[prod_id] = {'name': name, 'pr': pr, 'qn': qn}\n",
    "\n",
    "js = json.dumps(record)\n",
    "\n",
    "fd = open(\"record.json\",'w')\n",
    "fd.write(js)\n",
    "fd.close()"
   ]
  },
  {
   "cell_type": "code",
   "execution_count": 30,
   "metadata": {},
   "outputs": [
    {
     "data": {
      "text/plain": [
       "{'1001': {'name': 'Choco Cake', 'qn': 34, 'pr': 100},\n",
       " '1002': {'name': 'Milk Cake', 'pr': 800, 'qn': 100},\n",
       " '1003': {'name': 'Drink', 'pr': 85, 'qn': 100},\n",
       " '1004': {'name': 'Candy', 'pr': 5, 'qn': 1000},\n",
       " '1005': {'name': 'Pen', 'pr': 20, 'qn': 100},\n",
       " '1006': {'name': 'Phone', 'pr': 50000, 'qn': 10},\n",
       " '1007': {'name': 'Mic', 'pr': 1500, 'qn': 0},\n",
       " '1008': {'name': 'Case', 'pr': 599, 'qn': 5},\n",
       " '1009': {'name': 'Keyboard', 'pr': 1999, 'qn': 10},\n",
       " '1010': {'name': 'Mouse', 'pr': 300, 'qn': 85},\n",
       " '1011': {'name': 'Bluetooth', 'pr': 5000, 'qn': 550},\n",
       " '1012': {'name': 'Headset', 'pr': 600, 'qn': 100},\n",
       " '1013': {'name': 'Bottle', 'pr': 850, 'qn': 250},\n",
       " '1014': {'name': 'Speaker', 'pr': 6500, 'qn': 700},\n",
       " '1015': {'name': 'Charger', 'pr': 350, 'qn': 500},\n",
       " '1016': {'name': 'Phone Case', 'pr': 600, 'qn': 750},\n",
       " '1017': {'name': 'Record Book', 'pr': 450, 'qn': 600},\n",
       " '1018': {'name': 'Waffy', 'pr': 540, 'qn': 900},\n",
       " '1019': {'name': 'Jolo Chips', 'pr': 250, 'qn': 750},\n",
       " '1020': {'name': 'Muffins', 'pr': 275, 'qn': 550},\n",
       " '1021': {'name': 'Donut', 'pr': 315, 'qn': 450},\n",
       " '1022': {'name': 'Ketchup', 'pr': 75, 'qn': 250},\n",
       " '1023': {'name': 'Soya Sauce', 'pr': 105, 'qn': 150}}"
      ]
     },
     "execution_count": 30,
     "metadata": {},
     "output_type": "execute_result"
    }
   ],
   "source": [
    "record"
   ]
  },
  {
   "cell_type": "code",
   "execution_count": 31,
   "metadata": {},
   "outputs": [
    {
     "name": "stdout",
     "output_type": "stream",
     "text": [
      "Enter product id:1024\n",
      "Enter name:Pizza Base\n",
      "Enter price:85\n",
      "Enter quantity:115\n"
     ]
    }
   ],
   "source": [
    "prod_id = str(input(\"Enter product id:\"))\n",
    "name = str(input(\"Enter name:\"))\n",
    "pr = int(input(\"Enter price:\"))\n",
    "qn = int(input(\"Enter quantity:\"))\n",
    "\n",
    "record[prod_id] = {'name': name, 'pr': pr, 'qn': qn}\n",
    "\n",
    "js = json.dumps(record)\n",
    "\n",
    "fd = open(\"record.json\",'w')\n",
    "fd.write(js)\n",
    "fd.close()"
   ]
  },
  {
   "cell_type": "code",
   "execution_count": 32,
   "metadata": {},
   "outputs": [
    {
     "data": {
      "text/plain": [
       "{'1001': {'name': 'Choco Cake', 'qn': 34, 'pr': 100},\n",
       " '1002': {'name': 'Milk Cake', 'pr': 800, 'qn': 100},\n",
       " '1003': {'name': 'Drink', 'pr': 85, 'qn': 100},\n",
       " '1004': {'name': 'Candy', 'pr': 5, 'qn': 1000},\n",
       " '1005': {'name': 'Pen', 'pr': 20, 'qn': 100},\n",
       " '1006': {'name': 'Phone', 'pr': 50000, 'qn': 10},\n",
       " '1007': {'name': 'Mic', 'pr': 1500, 'qn': 0},\n",
       " '1008': {'name': 'Case', 'pr': 599, 'qn': 5},\n",
       " '1009': {'name': 'Keyboard', 'pr': 1999, 'qn': 10},\n",
       " '1010': {'name': 'Mouse', 'pr': 300, 'qn': 85},\n",
       " '1011': {'name': 'Bluetooth', 'pr': 5000, 'qn': 550},\n",
       " '1012': {'name': 'Headset', 'pr': 600, 'qn': 100},\n",
       " '1013': {'name': 'Bottle', 'pr': 850, 'qn': 250},\n",
       " '1014': {'name': 'Speaker', 'pr': 6500, 'qn': 700},\n",
       " '1015': {'name': 'Charger', 'pr': 350, 'qn': 500},\n",
       " '1016': {'name': 'Phone Case', 'pr': 600, 'qn': 750},\n",
       " '1017': {'name': 'Record Book', 'pr': 450, 'qn': 600},\n",
       " '1018': {'name': 'Waffy', 'pr': 540, 'qn': 900},\n",
       " '1019': {'name': 'Jolo Chips', 'pr': 250, 'qn': 750},\n",
       " '1020': {'name': 'Muffins', 'pr': 275, 'qn': 550},\n",
       " '1021': {'name': 'Donut', 'pr': 315, 'qn': 450},\n",
       " '1022': {'name': 'Ketchup', 'pr': 75, 'qn': 250},\n",
       " '1023': {'name': 'Soya Sauce', 'pr': 105, 'qn': 150},\n",
       " '1024': {'name': 'Pizza Base', 'pr': 85, 'qn': 115}}"
      ]
     },
     "execution_count": 32,
     "metadata": {},
     "output_type": "execute_result"
    }
   ],
   "source": [
    "record"
   ]
  },
  {
   "cell_type": "code",
   "execution_count": 33,
   "metadata": {},
   "outputs": [
    {
     "name": "stdout",
     "output_type": "stream",
     "text": [
      "Enter product id:1025\n",
      "Enter name:Laptop\n",
      "Enter price:45000\n",
      "Enter quantity:2000\n"
     ]
    }
   ],
   "source": [
    "prod_id = str(input(\"Enter product id:\"))\n",
    "name = str(input(\"Enter name:\"))\n",
    "pr = int(input(\"Enter price:\"))\n",
    "qn = int(input(\"Enter quantity:\"))\n",
    "\n",
    "record[prod_id] = {'name': name, 'pr': pr, 'qn': qn}\n",
    "\n",
    "js = json.dumps(record)\n",
    "\n",
    "fd = open(\"record.json\",'w')\n",
    "fd.write(js)\n",
    "fd.close()"
   ]
  },
  {
   "cell_type": "code",
   "execution_count": 34,
   "metadata": {},
   "outputs": [
    {
     "data": {
      "text/plain": [
       "{'1001': {'name': 'Choco Cake', 'qn': 34, 'pr': 100},\n",
       " '1002': {'name': 'Milk Cake', 'pr': 800, 'qn': 100},\n",
       " '1003': {'name': 'Drink', 'pr': 85, 'qn': 100},\n",
       " '1004': {'name': 'Candy', 'pr': 5, 'qn': 1000},\n",
       " '1005': {'name': 'Pen', 'pr': 20, 'qn': 100},\n",
       " '1006': {'name': 'Phone', 'pr': 50000, 'qn': 10},\n",
       " '1007': {'name': 'Mic', 'pr': 1500, 'qn': 0},\n",
       " '1008': {'name': 'Case', 'pr': 599, 'qn': 5},\n",
       " '1009': {'name': 'Keyboard', 'pr': 1999, 'qn': 10},\n",
       " '1010': {'name': 'Mouse', 'pr': 300, 'qn': 85},\n",
       " '1011': {'name': 'Bluetooth', 'pr': 5000, 'qn': 550},\n",
       " '1012': {'name': 'Headset', 'pr': 600, 'qn': 100},\n",
       " '1013': {'name': 'Bottle', 'pr': 850, 'qn': 250},\n",
       " '1014': {'name': 'Speaker', 'pr': 6500, 'qn': 700},\n",
       " '1015': {'name': 'Charger', 'pr': 350, 'qn': 500},\n",
       " '1016': {'name': 'Phone Case', 'pr': 600, 'qn': 750},\n",
       " '1017': {'name': 'Record Book', 'pr': 450, 'qn': 600},\n",
       " '1018': {'name': 'Waffy', 'pr': 540, 'qn': 900},\n",
       " '1019': {'name': 'Jolo Chips', 'pr': 250, 'qn': 750},\n",
       " '1020': {'name': 'Muffins', 'pr': 275, 'qn': 550},\n",
       " '1021': {'name': 'Donut', 'pr': 315, 'qn': 450},\n",
       " '1022': {'name': 'Ketchup', 'pr': 75, 'qn': 250},\n",
       " '1023': {'name': 'Soya Sauce', 'pr': 105, 'qn': 150},\n",
       " '1024': {'name': 'Pizza Base', 'pr': 85, 'qn': 115},\n",
       " '1025': {'name': 'Laptop', 'pr': 45000, 'qn': 2000}}"
      ]
     },
     "execution_count": 34,
     "metadata": {},
     "output_type": "execute_result"
    }
   ],
   "source": [
    "record"
   ]
  },
  {
   "cell_type": "code",
   "execution_count": 35,
   "metadata": {},
   "outputs": [
    {
     "name": "stdout",
     "output_type": "stream",
     "text": [
      "Enter product id:1026\n",
      "Enter name:Tablet\n",
      "Enter price:65000\n",
      "Enter quantity:1500\n"
     ]
    }
   ],
   "source": [
    "prod_id = str(input(\"Enter product id:\"))\n",
    "name = str(input(\"Enter name:\"))\n",
    "pr = int(input(\"Enter price:\"))\n",
    "qn = int(input(\"Enter quantity:\"))\n",
    "\n",
    "record[prod_id] = {'name': name, 'pr': pr, 'qn': qn}\n",
    "\n",
    "js = json.dumps(record)\n",
    "\n",
    "fd = open(\"record.json\",'w')\n",
    "fd.write(js)\n",
    "fd.close()"
   ]
  },
  {
   "cell_type": "code",
   "execution_count": 36,
   "metadata": {},
   "outputs": [
    {
     "data": {
      "text/plain": [
       "{'1001': {'name': 'Choco Cake', 'qn': 34, 'pr': 100},\n",
       " '1002': {'name': 'Milk Cake', 'pr': 800, 'qn': 100},\n",
       " '1003': {'name': 'Drink', 'pr': 85, 'qn': 100},\n",
       " '1004': {'name': 'Candy', 'pr': 5, 'qn': 1000},\n",
       " '1005': {'name': 'Pen', 'pr': 20, 'qn': 100},\n",
       " '1006': {'name': 'Phone', 'pr': 50000, 'qn': 10},\n",
       " '1007': {'name': 'Mic', 'pr': 1500, 'qn': 0},\n",
       " '1008': {'name': 'Case', 'pr': 599, 'qn': 5},\n",
       " '1009': {'name': 'Keyboard', 'pr': 1999, 'qn': 10},\n",
       " '1010': {'name': 'Mouse', 'pr': 300, 'qn': 85},\n",
       " '1011': {'name': 'Bluetooth', 'pr': 5000, 'qn': 550},\n",
       " '1012': {'name': 'Headset', 'pr': 600, 'qn': 100},\n",
       " '1013': {'name': 'Bottle', 'pr': 850, 'qn': 250},\n",
       " '1014': {'name': 'Speaker', 'pr': 6500, 'qn': 700},\n",
       " '1015': {'name': 'Charger', 'pr': 350, 'qn': 500},\n",
       " '1016': {'name': 'Phone Case', 'pr': 600, 'qn': 750},\n",
       " '1017': {'name': 'Record Book', 'pr': 450, 'qn': 600},\n",
       " '1018': {'name': 'Waffy', 'pr': 540, 'qn': 900},\n",
       " '1019': {'name': 'Jolo Chips', 'pr': 250, 'qn': 750},\n",
       " '1020': {'name': 'Muffins', 'pr': 275, 'qn': 550},\n",
       " '1021': {'name': 'Donut', 'pr': 315, 'qn': 450},\n",
       " '1022': {'name': 'Ketchup', 'pr': 75, 'qn': 250},\n",
       " '1023': {'name': 'Soya Sauce', 'pr': 105, 'qn': 150},\n",
       " '1024': {'name': 'Pizza Base', 'pr': 85, 'qn': 115},\n",
       " '1025': {'name': 'Laptop', 'pr': 45000, 'qn': 2000},\n",
       " '1026': {'name': 'Tablet', 'pr': 65000, 'qn': 1500}}"
      ]
     },
     "execution_count": 36,
     "metadata": {},
     "output_type": "execute_result"
    }
   ],
   "source": [
    "record"
   ]
  },
  {
   "cell_type": "code",
   "execution_count": 37,
   "metadata": {},
   "outputs": [
    {
     "name": "stdout",
     "output_type": "stream",
     "text": [
      "Enter product id:1027\n",
      "Enter name:Power Bank\n",
      "Enter price:3500\n",
      "Enter quantity:500\n"
     ]
    }
   ],
   "source": [
    "prod_id = str(input(\"Enter product id:\"))\n",
    "name = str(input(\"Enter name:\"))\n",
    "pr = int(input(\"Enter price:\"))\n",
    "qn = int(input(\"Enter quantity:\"))\n",
    "\n",
    "record[prod_id] = {'name': name, 'pr': pr, 'qn': qn}\n",
    "\n",
    "js = json.dumps(record)\n",
    "\n",
    "fd = open(\"record.json\",'w')\n",
    "fd.write(js)\n",
    "fd.close()"
   ]
  },
  {
   "cell_type": "code",
   "execution_count": 38,
   "metadata": {},
   "outputs": [
    {
     "data": {
      "text/plain": [
       "{'1001': {'name': 'Choco Cake', 'qn': 34, 'pr': 100},\n",
       " '1002': {'name': 'Milk Cake', 'pr': 800, 'qn': 100},\n",
       " '1003': {'name': 'Drink', 'pr': 85, 'qn': 100},\n",
       " '1004': {'name': 'Candy', 'pr': 5, 'qn': 1000},\n",
       " '1005': {'name': 'Pen', 'pr': 20, 'qn': 100},\n",
       " '1006': {'name': 'Phone', 'pr': 50000, 'qn': 10},\n",
       " '1007': {'name': 'Mic', 'pr': 1500, 'qn': 0},\n",
       " '1008': {'name': 'Case', 'pr': 599, 'qn': 5},\n",
       " '1009': {'name': 'Keyboard', 'pr': 1999, 'qn': 10},\n",
       " '1010': {'name': 'Mouse', 'pr': 300, 'qn': 85},\n",
       " '1011': {'name': 'Bluetooth', 'pr': 5000, 'qn': 550},\n",
       " '1012': {'name': 'Headset', 'pr': 600, 'qn': 100},\n",
       " '1013': {'name': 'Bottle', 'pr': 850, 'qn': 250},\n",
       " '1014': {'name': 'Speaker', 'pr': 6500, 'qn': 700},\n",
       " '1015': {'name': 'Charger', 'pr': 350, 'qn': 500},\n",
       " '1016': {'name': 'Phone Case', 'pr': 600, 'qn': 750},\n",
       " '1017': {'name': 'Record Book', 'pr': 450, 'qn': 600},\n",
       " '1018': {'name': 'Waffy', 'pr': 540, 'qn': 900},\n",
       " '1019': {'name': 'Jolo Chips', 'pr': 250, 'qn': 750},\n",
       " '1020': {'name': 'Muffins', 'pr': 275, 'qn': 550},\n",
       " '1021': {'name': 'Donut', 'pr': 315, 'qn': 450},\n",
       " '1022': {'name': 'Ketchup', 'pr': 75, 'qn': 250},\n",
       " '1023': {'name': 'Soya Sauce', 'pr': 105, 'qn': 150},\n",
       " '1024': {'name': 'Pizza Base', 'pr': 85, 'qn': 115},\n",
       " '1025': {'name': 'Laptop', 'pr': 45000, 'qn': 2000},\n",
       " '1026': {'name': 'Tablet', 'pr': 65000, 'qn': 1500},\n",
       " '1027': {'name': 'Power Bank', 'pr': 3500, 'qn': 500}}"
      ]
     },
     "execution_count": 38,
     "metadata": {},
     "output_type": "execute_result"
    }
   ],
   "source": [
    "record"
   ]
  },
  {
   "cell_type": "code",
   "execution_count": 39,
   "metadata": {},
   "outputs": [
    {
     "name": "stdout",
     "output_type": "stream",
     "text": [
      "Enter product id:1028\n",
      "Enter name:Face Wash\n",
      "Enter price:125\n",
      "Enter quantity:650\n"
     ]
    }
   ],
   "source": [
    "prod_id = str(input(\"Enter product id:\"))\n",
    "name = str(input(\"Enter name:\"))\n",
    "pr = int(input(\"Enter price:\"))\n",
    "qn = int(input(\"Enter quantity:\"))\n",
    "\n",
    "record[prod_id] = {'name': name, 'pr': pr, 'qn': qn}\n",
    "\n",
    "js = json.dumps(record)\n",
    "\n",
    "fd = open(\"record.json\",'w')\n",
    "fd.write(js)\n",
    "fd.close()"
   ]
  },
  {
   "cell_type": "code",
   "execution_count": 40,
   "metadata": {},
   "outputs": [
    {
     "data": {
      "text/plain": [
       "{'1001': {'name': 'Choco Cake', 'qn': 34, 'pr': 100},\n",
       " '1002': {'name': 'Milk Cake', 'pr': 800, 'qn': 100},\n",
       " '1003': {'name': 'Drink', 'pr': 85, 'qn': 100},\n",
       " '1004': {'name': 'Candy', 'pr': 5, 'qn': 1000},\n",
       " '1005': {'name': 'Pen', 'pr': 20, 'qn': 100},\n",
       " '1006': {'name': 'Phone', 'pr': 50000, 'qn': 10},\n",
       " '1007': {'name': 'Mic', 'pr': 1500, 'qn': 0},\n",
       " '1008': {'name': 'Case', 'pr': 599, 'qn': 5},\n",
       " '1009': {'name': 'Keyboard', 'pr': 1999, 'qn': 10},\n",
       " '1010': {'name': 'Mouse', 'pr': 300, 'qn': 85},\n",
       " '1011': {'name': 'Bluetooth', 'pr': 5000, 'qn': 550},\n",
       " '1012': {'name': 'Headset', 'pr': 600, 'qn': 100},\n",
       " '1013': {'name': 'Bottle', 'pr': 850, 'qn': 250},\n",
       " '1014': {'name': 'Speaker', 'pr': 6500, 'qn': 700},\n",
       " '1015': {'name': 'Charger', 'pr': 350, 'qn': 500},\n",
       " '1016': {'name': 'Phone Case', 'pr': 600, 'qn': 750},\n",
       " '1017': {'name': 'Record Book', 'pr': 450, 'qn': 600},\n",
       " '1018': {'name': 'Waffy', 'pr': 540, 'qn': 900},\n",
       " '1019': {'name': 'Jolo Chips', 'pr': 250, 'qn': 750},\n",
       " '1020': {'name': 'Muffins', 'pr': 275, 'qn': 550},\n",
       " '1021': {'name': 'Donut', 'pr': 315, 'qn': 450},\n",
       " '1022': {'name': 'Ketchup', 'pr': 75, 'qn': 250},\n",
       " '1023': {'name': 'Soya Sauce', 'pr': 105, 'qn': 150},\n",
       " '1024': {'name': 'Pizza Base', 'pr': 85, 'qn': 115},\n",
       " '1025': {'name': 'Laptop', 'pr': 45000, 'qn': 2000},\n",
       " '1026': {'name': 'Tablet', 'pr': 65000, 'qn': 1500},\n",
       " '1027': {'name': 'Power Bank', 'pr': 3500, 'qn': 500},\n",
       " '1028': {'name': 'Face Wash', 'pr': 125, 'qn': 650}}"
      ]
     },
     "execution_count": 40,
     "metadata": {},
     "output_type": "execute_result"
    }
   ],
   "source": [
    "record"
   ]
  },
  {
   "cell_type": "code",
   "execution_count": 41,
   "metadata": {},
   "outputs": [
    {
     "name": "stdout",
     "output_type": "stream",
     "text": [
      "Enter product id:1029\n",
      "Enter name:Perfume\n",
      "Enter price:135\n",
      "Enter quantity:540\n"
     ]
    }
   ],
   "source": [
    "prod_id = str(input(\"Enter product id:\"))\n",
    "name = str(input(\"Enter name:\"))\n",
    "pr = int(input(\"Enter price:\"))\n",
    "qn = int(input(\"Enter quantity:\"))\n",
    "\n",
    "record[prod_id] = {'name': name, 'pr': pr, 'qn': qn}\n",
    "\n",
    "js = json.dumps(record)\n",
    "\n",
    "fd = open(\"record.json\",'w')\n",
    "fd.write(js)\n",
    "fd.close()"
   ]
  },
  {
   "cell_type": "code",
   "execution_count": 42,
   "metadata": {},
   "outputs": [
    {
     "data": {
      "text/plain": [
       "{'1001': {'name': 'Choco Cake', 'qn': 34, 'pr': 100},\n",
       " '1002': {'name': 'Milk Cake', 'pr': 800, 'qn': 100},\n",
       " '1003': {'name': 'Drink', 'pr': 85, 'qn': 100},\n",
       " '1004': {'name': 'Candy', 'pr': 5, 'qn': 1000},\n",
       " '1005': {'name': 'Pen', 'pr': 20, 'qn': 100},\n",
       " '1006': {'name': 'Phone', 'pr': 50000, 'qn': 10},\n",
       " '1007': {'name': 'Mic', 'pr': 1500, 'qn': 0},\n",
       " '1008': {'name': 'Case', 'pr': 599, 'qn': 5},\n",
       " '1009': {'name': 'Keyboard', 'pr': 1999, 'qn': 10},\n",
       " '1010': {'name': 'Mouse', 'pr': 300, 'qn': 85},\n",
       " '1011': {'name': 'Bluetooth', 'pr': 5000, 'qn': 550},\n",
       " '1012': {'name': 'Headset', 'pr': 600, 'qn': 100},\n",
       " '1013': {'name': 'Bottle', 'pr': 850, 'qn': 250},\n",
       " '1014': {'name': 'Speaker', 'pr': 6500, 'qn': 700},\n",
       " '1015': {'name': 'Charger', 'pr': 350, 'qn': 500},\n",
       " '1016': {'name': 'Phone Case', 'pr': 600, 'qn': 750},\n",
       " '1017': {'name': 'Record Book', 'pr': 450, 'qn': 600},\n",
       " '1018': {'name': 'Waffy', 'pr': 540, 'qn': 900},\n",
       " '1019': {'name': 'Jolo Chips', 'pr': 250, 'qn': 750},\n",
       " '1020': {'name': 'Muffins', 'pr': 275, 'qn': 550},\n",
       " '1021': {'name': 'Donut', 'pr': 315, 'qn': 450},\n",
       " '1022': {'name': 'Ketchup', 'pr': 75, 'qn': 250},\n",
       " '1023': {'name': 'Soya Sauce', 'pr': 105, 'qn': 150},\n",
       " '1024': {'name': 'Pizza Base', 'pr': 85, 'qn': 115},\n",
       " '1025': {'name': 'Laptop', 'pr': 45000, 'qn': 2000},\n",
       " '1026': {'name': 'Tablet', 'pr': 65000, 'qn': 1500},\n",
       " '1027': {'name': 'Power Bank', 'pr': 3500, 'qn': 500},\n",
       " '1028': {'name': 'Face Wash', 'pr': 125, 'qn': 650},\n",
       " '1029': {'name': 'Perfume', 'pr': 135, 'qn': 540}}"
      ]
     },
     "execution_count": 42,
     "metadata": {},
     "output_type": "execute_result"
    }
   ],
   "source": [
    "record"
   ]
  },
  {
   "cell_type": "code",
   "execution_count": 43,
   "metadata": {},
   "outputs": [
    {
     "name": "stdout",
     "output_type": "stream",
     "text": [
      "Enter product id:1030\n",
      "Enter name:Cheese\n",
      "Enter price:95\n",
      "Enter quantity:750\n"
     ]
    }
   ],
   "source": [
    "prod_id = str(input(\"Enter product id:\"))\n",
    "name = str(input(\"Enter name:\"))\n",
    "pr = int(input(\"Enter price:\"))\n",
    "qn = int(input(\"Enter quantity:\"))\n",
    "\n",
    "record[prod_id] = {'name': name, 'pr': pr, 'qn': qn}\n",
    "\n",
    "js = json.dumps(record)\n",
    "\n",
    "fd = open(\"record.json\",'w')\n",
    "fd.write(js)\n",
    "fd.close()"
   ]
  },
  {
   "cell_type": "code",
   "execution_count": 44,
   "metadata": {},
   "outputs": [
    {
     "data": {
      "text/plain": [
       "{'1001': {'name': 'Choco Cake', 'qn': 34, 'pr': 100},\n",
       " '1002': {'name': 'Milk Cake', 'pr': 800, 'qn': 100},\n",
       " '1003': {'name': 'Drink', 'pr': 85, 'qn': 100},\n",
       " '1004': {'name': 'Candy', 'pr': 5, 'qn': 1000},\n",
       " '1005': {'name': 'Pen', 'pr': 20, 'qn': 100},\n",
       " '1006': {'name': 'Phone', 'pr': 50000, 'qn': 10},\n",
       " '1007': {'name': 'Mic', 'pr': 1500, 'qn': 0},\n",
       " '1008': {'name': 'Case', 'pr': 599, 'qn': 5},\n",
       " '1009': {'name': 'Keyboard', 'pr': 1999, 'qn': 10},\n",
       " '1010': {'name': 'Mouse', 'pr': 300, 'qn': 85},\n",
       " '1011': {'name': 'Bluetooth', 'pr': 5000, 'qn': 550},\n",
       " '1012': {'name': 'Headset', 'pr': 600, 'qn': 100},\n",
       " '1013': {'name': 'Bottle', 'pr': 850, 'qn': 250},\n",
       " '1014': {'name': 'Speaker', 'pr': 6500, 'qn': 700},\n",
       " '1015': {'name': 'Charger', 'pr': 350, 'qn': 500},\n",
       " '1016': {'name': 'Phone Case', 'pr': 600, 'qn': 750},\n",
       " '1017': {'name': 'Record Book', 'pr': 450, 'qn': 600},\n",
       " '1018': {'name': 'Waffy', 'pr': 540, 'qn': 900},\n",
       " '1019': {'name': 'Jolo Chips', 'pr': 250, 'qn': 750},\n",
       " '1020': {'name': 'Muffins', 'pr': 275, 'qn': 550},\n",
       " '1021': {'name': 'Donut', 'pr': 315, 'qn': 450},\n",
       " '1022': {'name': 'Ketchup', 'pr': 75, 'qn': 250},\n",
       " '1023': {'name': 'Soya Sauce', 'pr': 105, 'qn': 150},\n",
       " '1024': {'name': 'Pizza Base', 'pr': 85, 'qn': 115},\n",
       " '1025': {'name': 'Laptop', 'pr': 45000, 'qn': 2000},\n",
       " '1026': {'name': 'Tablet', 'pr': 65000, 'qn': 1500},\n",
       " '1027': {'name': 'Power Bank', 'pr': 3500, 'qn': 500},\n",
       " '1028': {'name': 'Face Wash', 'pr': 125, 'qn': 650},\n",
       " '1029': {'name': 'Perfume', 'pr': 135, 'qn': 540},\n",
       " '1030': {'name': 'Cheese', 'pr': 95, 'qn': 750}}"
      ]
     },
     "execution_count": 44,
     "metadata": {},
     "output_type": "execute_result"
    }
   ],
   "source": [
    "record"
   ]
  },
  {
   "cell_type": "code",
   "execution_count": 45,
   "metadata": {},
   "outputs": [
    {
     "name": "stdout",
     "output_type": "stream",
     "text": [
      "Enter product id:1031\n",
      "Enter name:Chipotle Sauce\n",
      "Enter price:175\n",
      "Enter quantity:850\n"
     ]
    }
   ],
   "source": [
    "prod_id = str(input(\"Enter product id:\"))\n",
    "name = str(input(\"Enter name:\"))\n",
    "pr = int(input(\"Enter price:\"))\n",
    "qn = int(input(\"Enter quantity:\"))\n",
    "\n",
    "record[prod_id] = {'name': name, 'pr': pr, 'qn': qn}\n",
    "\n",
    "js = json.dumps(record)\n",
    "\n",
    "fd = open(\"record.json\",'w')\n",
    "fd.write(js)\n",
    "fd.close()"
   ]
  },
  {
   "cell_type": "code",
   "execution_count": 46,
   "metadata": {},
   "outputs": [
    {
     "data": {
      "text/plain": [
       "{'1001': {'name': 'Choco Cake', 'qn': 34, 'pr': 100},\n",
       " '1002': {'name': 'Milk Cake', 'pr': 800, 'qn': 100},\n",
       " '1003': {'name': 'Drink', 'pr': 85, 'qn': 100},\n",
       " '1004': {'name': 'Candy', 'pr': 5, 'qn': 1000},\n",
       " '1005': {'name': 'Pen', 'pr': 20, 'qn': 100},\n",
       " '1006': {'name': 'Phone', 'pr': 50000, 'qn': 10},\n",
       " '1007': {'name': 'Mic', 'pr': 1500, 'qn': 0},\n",
       " '1008': {'name': 'Case', 'pr': 599, 'qn': 5},\n",
       " '1009': {'name': 'Keyboard', 'pr': 1999, 'qn': 10},\n",
       " '1010': {'name': 'Mouse', 'pr': 300, 'qn': 85},\n",
       " '1011': {'name': 'Bluetooth', 'pr': 5000, 'qn': 550},\n",
       " '1012': {'name': 'Headset', 'pr': 600, 'qn': 100},\n",
       " '1013': {'name': 'Bottle', 'pr': 850, 'qn': 250},\n",
       " '1014': {'name': 'Speaker', 'pr': 6500, 'qn': 700},\n",
       " '1015': {'name': 'Charger', 'pr': 350, 'qn': 500},\n",
       " '1016': {'name': 'Phone Case', 'pr': 600, 'qn': 750},\n",
       " '1017': {'name': 'Record Book', 'pr': 450, 'qn': 600},\n",
       " '1018': {'name': 'Waffy', 'pr': 540, 'qn': 900},\n",
       " '1019': {'name': 'Jolo Chips', 'pr': 250, 'qn': 750},\n",
       " '1020': {'name': 'Muffins', 'pr': 275, 'qn': 550},\n",
       " '1021': {'name': 'Donut', 'pr': 315, 'qn': 450},\n",
       " '1022': {'name': 'Ketchup', 'pr': 75, 'qn': 250},\n",
       " '1023': {'name': 'Soya Sauce', 'pr': 105, 'qn': 150},\n",
       " '1024': {'name': 'Pizza Base', 'pr': 85, 'qn': 115},\n",
       " '1025': {'name': 'Laptop', 'pr': 45000, 'qn': 2000},\n",
       " '1026': {'name': 'Tablet', 'pr': 65000, 'qn': 1500},\n",
       " '1027': {'name': 'Power Bank', 'pr': 3500, 'qn': 500},\n",
       " '1028': {'name': 'Face Wash', 'pr': 125, 'qn': 650},\n",
       " '1029': {'name': 'Perfume', 'pr': 135, 'qn': 540},\n",
       " '1030': {'name': 'Cheese', 'pr': 95, 'qn': 750},\n",
       " '1031': {'name': 'Chipotle Sauce', 'pr': 175, 'qn': 850}}"
      ]
     },
     "execution_count": 46,
     "metadata": {},
     "output_type": "execute_result"
    }
   ],
   "source": [
    "record"
   ]
  },
  {
   "cell_type": "code",
   "execution_count": 47,
   "metadata": {},
   "outputs": [
    {
     "name": "stdout",
     "output_type": "stream",
     "text": [
      "Enter product id:1032\n",
      "Enter name:Fresh Cream\n",
      "Enter price:175\n",
      "Enter quantity:750\n"
     ]
    }
   ],
   "source": [
    "prod_id = str(input(\"Enter product id:\"))\n",
    "name = str(input(\"Enter name:\"))\n",
    "pr = int(input(\"Enter price:\"))\n",
    "qn = int(input(\"Enter quantity:\"))\n",
    "\n",
    "record[prod_id] = {'name': name, 'pr': pr, 'qn': qn}\n",
    "\n",
    "js = json.dumps(record)\n",
    "\n",
    "fd = open(\"record.json\",'w')\n",
    "fd.write(js)\n",
    "fd.close()"
   ]
  },
  {
   "cell_type": "code",
   "execution_count": 48,
   "metadata": {},
   "outputs": [
    {
     "data": {
      "text/plain": [
       "{'1001': {'name': 'Choco Cake', 'qn': 34, 'pr': 100},\n",
       " '1002': {'name': 'Milk Cake', 'pr': 800, 'qn': 100},\n",
       " '1003': {'name': 'Drink', 'pr': 85, 'qn': 100},\n",
       " '1004': {'name': 'Candy', 'pr': 5, 'qn': 1000},\n",
       " '1005': {'name': 'Pen', 'pr': 20, 'qn': 100},\n",
       " '1006': {'name': 'Phone', 'pr': 50000, 'qn': 10},\n",
       " '1007': {'name': 'Mic', 'pr': 1500, 'qn': 0},\n",
       " '1008': {'name': 'Case', 'pr': 599, 'qn': 5},\n",
       " '1009': {'name': 'Keyboard', 'pr': 1999, 'qn': 10},\n",
       " '1010': {'name': 'Mouse', 'pr': 300, 'qn': 85},\n",
       " '1011': {'name': 'Bluetooth', 'pr': 5000, 'qn': 550},\n",
       " '1012': {'name': 'Headset', 'pr': 600, 'qn': 100},\n",
       " '1013': {'name': 'Bottle', 'pr': 850, 'qn': 250},\n",
       " '1014': {'name': 'Speaker', 'pr': 6500, 'qn': 700},\n",
       " '1015': {'name': 'Charger', 'pr': 350, 'qn': 500},\n",
       " '1016': {'name': 'Phone Case', 'pr': 600, 'qn': 750},\n",
       " '1017': {'name': 'Record Book', 'pr': 450, 'qn': 600},\n",
       " '1018': {'name': 'Waffy', 'pr': 540, 'qn': 900},\n",
       " '1019': {'name': 'Jolo Chips', 'pr': 250, 'qn': 750},\n",
       " '1020': {'name': 'Muffins', 'pr': 275, 'qn': 550},\n",
       " '1021': {'name': 'Donut', 'pr': 315, 'qn': 450},\n",
       " '1022': {'name': 'Ketchup', 'pr': 75, 'qn': 250},\n",
       " '1023': {'name': 'Soya Sauce', 'pr': 105, 'qn': 150},\n",
       " '1024': {'name': 'Pizza Base', 'pr': 85, 'qn': 115},\n",
       " '1025': {'name': 'Laptop', 'pr': 45000, 'qn': 2000},\n",
       " '1026': {'name': 'Tablet', 'pr': 65000, 'qn': 1500},\n",
       " '1027': {'name': 'Power Bank', 'pr': 3500, 'qn': 500},\n",
       " '1028': {'name': 'Face Wash', 'pr': 125, 'qn': 650},\n",
       " '1029': {'name': 'Perfume', 'pr': 135, 'qn': 540},\n",
       " '1030': {'name': 'Cheese', 'pr': 95, 'qn': 750},\n",
       " '1031': {'name': 'Chipotle Sauce', 'pr': 175, 'qn': 850},\n",
       " '1032': {'name': 'Fresh Cream', 'pr': 175, 'qn': 750}}"
      ]
     },
     "execution_count": 48,
     "metadata": {},
     "output_type": "execute_result"
    }
   ],
   "source": [
    "record"
   ]
  },
  {
   "cell_type": "code",
   "execution_count": 49,
   "metadata": {},
   "outputs": [
    {
     "name": "stdout",
     "output_type": "stream",
     "text": [
      "Enter product id:1033\n",
      "Enter name:Cornetto Icecream\n",
      "Enter price:75\n",
      "Enter quantity:1000\n"
     ]
    }
   ],
   "source": [
    "prod_id = str(input(\"Enter product id:\"))\n",
    "name = str(input(\"Enter name:\"))\n",
    "pr = int(input(\"Enter price:\"))\n",
    "qn = int(input(\"Enter quantity:\"))\n",
    "\n",
    "record[prod_id] = {'name': name, 'pr': pr, 'qn': qn}\n",
    "\n",
    "js = json.dumps(record)\n",
    "\n",
    "fd = open(\"record.json\",'w')\n",
    "fd.write(js)\n",
    "fd.close()"
   ]
  },
  {
   "cell_type": "code",
   "execution_count": 50,
   "metadata": {},
   "outputs": [
    {
     "data": {
      "text/plain": [
       "{'1001': {'name': 'Choco Cake', 'qn': 34, 'pr': 100},\n",
       " '1002': {'name': 'Milk Cake', 'pr': 800, 'qn': 100},\n",
       " '1003': {'name': 'Drink', 'pr': 85, 'qn': 100},\n",
       " '1004': {'name': 'Candy', 'pr': 5, 'qn': 1000},\n",
       " '1005': {'name': 'Pen', 'pr': 20, 'qn': 100},\n",
       " '1006': {'name': 'Phone', 'pr': 50000, 'qn': 10},\n",
       " '1007': {'name': 'Mic', 'pr': 1500, 'qn': 0},\n",
       " '1008': {'name': 'Case', 'pr': 599, 'qn': 5},\n",
       " '1009': {'name': 'Keyboard', 'pr': 1999, 'qn': 10},\n",
       " '1010': {'name': 'Mouse', 'pr': 300, 'qn': 85},\n",
       " '1011': {'name': 'Bluetooth', 'pr': 5000, 'qn': 550},\n",
       " '1012': {'name': 'Headset', 'pr': 600, 'qn': 100},\n",
       " '1013': {'name': 'Bottle', 'pr': 850, 'qn': 250},\n",
       " '1014': {'name': 'Speaker', 'pr': 6500, 'qn': 700},\n",
       " '1015': {'name': 'Charger', 'pr': 350, 'qn': 500},\n",
       " '1016': {'name': 'Phone Case', 'pr': 600, 'qn': 750},\n",
       " '1017': {'name': 'Record Book', 'pr': 450, 'qn': 600},\n",
       " '1018': {'name': 'Waffy', 'pr': 540, 'qn': 900},\n",
       " '1019': {'name': 'Jolo Chips', 'pr': 250, 'qn': 750},\n",
       " '1020': {'name': 'Muffins', 'pr': 275, 'qn': 550},\n",
       " '1021': {'name': 'Donut', 'pr': 315, 'qn': 450},\n",
       " '1022': {'name': 'Ketchup', 'pr': 75, 'qn': 250},\n",
       " '1023': {'name': 'Soya Sauce', 'pr': 105, 'qn': 150},\n",
       " '1024': {'name': 'Pizza Base', 'pr': 85, 'qn': 115},\n",
       " '1025': {'name': 'Laptop', 'pr': 45000, 'qn': 2000},\n",
       " '1026': {'name': 'Tablet', 'pr': 65000, 'qn': 1500},\n",
       " '1027': {'name': 'Power Bank', 'pr': 3500, 'qn': 500},\n",
       " '1028': {'name': 'Face Wash', 'pr': 125, 'qn': 650},\n",
       " '1029': {'name': 'Perfume', 'pr': 135, 'qn': 540},\n",
       " '1030': {'name': 'Cheese', 'pr': 95, 'qn': 750},\n",
       " '1031': {'name': 'Chipotle Sauce', 'pr': 175, 'qn': 850},\n",
       " '1032': {'name': 'Fresh Cream', 'pr': 175, 'qn': 750},\n",
       " '1033': {'name': 'Cornetto Icecream', 'pr': 75, 'qn': 1000}}"
      ]
     },
     "execution_count": 50,
     "metadata": {},
     "output_type": "execute_result"
    }
   ],
   "source": [
    "record"
   ]
  },
  {
   "cell_type": "code",
   "execution_count": 51,
   "metadata": {},
   "outputs": [
    {
     "name": "stdout",
     "output_type": "stream",
     "text": [
      "Enter product id:1034\n",
      "Enter name:Doritos Chips\n",
      "Enter price:95\n",
      "Enter quantity:900\n"
     ]
    }
   ],
   "source": [
    "prod_id = str(input(\"Enter product id:\"))\n",
    "name = str(input(\"Enter name:\"))\n",
    "pr = int(input(\"Enter price:\"))\n",
    "qn = int(input(\"Enter quantity:\"))\n",
    "\n",
    "record[prod_id] = {'name': name, 'pr': pr, 'qn': qn}\n",
    "\n",
    "js = json.dumps(record)\n",
    "\n",
    "fd = open(\"record.json\",'w')\n",
    "fd.write(js)\n",
    "fd.close()"
   ]
  },
  {
   "cell_type": "code",
   "execution_count": 52,
   "metadata": {},
   "outputs": [
    {
     "data": {
      "text/plain": [
       "{'1001': {'name': 'Choco Cake', 'qn': 34, 'pr': 100},\n",
       " '1002': {'name': 'Milk Cake', 'pr': 800, 'qn': 100},\n",
       " '1003': {'name': 'Drink', 'pr': 85, 'qn': 100},\n",
       " '1004': {'name': 'Candy', 'pr': 5, 'qn': 1000},\n",
       " '1005': {'name': 'Pen', 'pr': 20, 'qn': 100},\n",
       " '1006': {'name': 'Phone', 'pr': 50000, 'qn': 10},\n",
       " '1007': {'name': 'Mic', 'pr': 1500, 'qn': 0},\n",
       " '1008': {'name': 'Case', 'pr': 599, 'qn': 5},\n",
       " '1009': {'name': 'Keyboard', 'pr': 1999, 'qn': 10},\n",
       " '1010': {'name': 'Mouse', 'pr': 300, 'qn': 85},\n",
       " '1011': {'name': 'Bluetooth', 'pr': 5000, 'qn': 550},\n",
       " '1012': {'name': 'Headset', 'pr': 600, 'qn': 100},\n",
       " '1013': {'name': 'Bottle', 'pr': 850, 'qn': 250},\n",
       " '1014': {'name': 'Speaker', 'pr': 6500, 'qn': 700},\n",
       " '1015': {'name': 'Charger', 'pr': 350, 'qn': 500},\n",
       " '1016': {'name': 'Phone Case', 'pr': 600, 'qn': 750},\n",
       " '1017': {'name': 'Record Book', 'pr': 450, 'qn': 600},\n",
       " '1018': {'name': 'Waffy', 'pr': 540, 'qn': 900},\n",
       " '1019': {'name': 'Jolo Chips', 'pr': 250, 'qn': 750},\n",
       " '1020': {'name': 'Muffins', 'pr': 275, 'qn': 550},\n",
       " '1021': {'name': 'Donut', 'pr': 315, 'qn': 450},\n",
       " '1022': {'name': 'Ketchup', 'pr': 75, 'qn': 250},\n",
       " '1023': {'name': 'Soya Sauce', 'pr': 105, 'qn': 150},\n",
       " '1024': {'name': 'Pizza Base', 'pr': 85, 'qn': 115},\n",
       " '1025': {'name': 'Laptop', 'pr': 45000, 'qn': 2000},\n",
       " '1026': {'name': 'Tablet', 'pr': 65000, 'qn': 1500},\n",
       " '1027': {'name': 'Power Bank', 'pr': 3500, 'qn': 500},\n",
       " '1028': {'name': 'Face Wash', 'pr': 125, 'qn': 650},\n",
       " '1029': {'name': 'Perfume', 'pr': 135, 'qn': 540},\n",
       " '1030': {'name': 'Cheese', 'pr': 95, 'qn': 750},\n",
       " '1031': {'name': 'Chipotle Sauce', 'pr': 175, 'qn': 850},\n",
       " '1032': {'name': 'Fresh Cream', 'pr': 175, 'qn': 750},\n",
       " '1033': {'name': 'Cornetto Icecream', 'pr': 75, 'qn': 1000},\n",
       " '1034': {'name': 'Doritos Chips', 'pr': 95, 'qn': 900}}"
      ]
     },
     "execution_count": 52,
     "metadata": {},
     "output_type": "execute_result"
    }
   ],
   "source": [
    "record"
   ]
  },
  {
   "cell_type": "code",
   "execution_count": 53,
   "metadata": {},
   "outputs": [
    {
     "name": "stdout",
     "output_type": "stream",
     "text": [
      "Enter product id:1035\n",
      "Enter name:Makeup Kit\n",
      "Enter price:4500\n",
      "Enter quantity:3000\n"
     ]
    }
   ],
   "source": [
    "prod_id = str(input(\"Enter product id:\"))\n",
    "name = str(input(\"Enter name:\"))\n",
    "pr = int(input(\"Enter price:\"))\n",
    "qn = int(input(\"Enter quantity:\"))\n",
    "\n",
    "record[prod_id] = {'name': name, 'pr': pr, 'qn': qn}\n",
    "\n",
    "js = json.dumps(record)\n",
    "\n",
    "fd = open(\"record.json\",'w')\n",
    "fd.write(js)\n",
    "fd.close()"
   ]
  },
  {
   "cell_type": "code",
   "execution_count": 54,
   "metadata": {},
   "outputs": [
    {
     "data": {
      "text/plain": [
       "{'1001': {'name': 'Choco Cake', 'qn': 34, 'pr': 100},\n",
       " '1002': {'name': 'Milk Cake', 'pr': 800, 'qn': 100},\n",
       " '1003': {'name': 'Drink', 'pr': 85, 'qn': 100},\n",
       " '1004': {'name': 'Candy', 'pr': 5, 'qn': 1000},\n",
       " '1005': {'name': 'Pen', 'pr': 20, 'qn': 100},\n",
       " '1006': {'name': 'Phone', 'pr': 50000, 'qn': 10},\n",
       " '1007': {'name': 'Mic', 'pr': 1500, 'qn': 0},\n",
       " '1008': {'name': 'Case', 'pr': 599, 'qn': 5},\n",
       " '1009': {'name': 'Keyboard', 'pr': 1999, 'qn': 10},\n",
       " '1010': {'name': 'Mouse', 'pr': 300, 'qn': 85},\n",
       " '1011': {'name': 'Bluetooth', 'pr': 5000, 'qn': 550},\n",
       " '1012': {'name': 'Headset', 'pr': 600, 'qn': 100},\n",
       " '1013': {'name': 'Bottle', 'pr': 850, 'qn': 250},\n",
       " '1014': {'name': 'Speaker', 'pr': 6500, 'qn': 700},\n",
       " '1015': {'name': 'Charger', 'pr': 350, 'qn': 500},\n",
       " '1016': {'name': 'Phone Case', 'pr': 600, 'qn': 750},\n",
       " '1017': {'name': 'Record Book', 'pr': 450, 'qn': 600},\n",
       " '1018': {'name': 'Waffy', 'pr': 540, 'qn': 900},\n",
       " '1019': {'name': 'Jolo Chips', 'pr': 250, 'qn': 750},\n",
       " '1020': {'name': 'Muffins', 'pr': 275, 'qn': 550},\n",
       " '1021': {'name': 'Donut', 'pr': 315, 'qn': 450},\n",
       " '1022': {'name': 'Ketchup', 'pr': 75, 'qn': 250},\n",
       " '1023': {'name': 'Soya Sauce', 'pr': 105, 'qn': 150},\n",
       " '1024': {'name': 'Pizza Base', 'pr': 85, 'qn': 115},\n",
       " '1025': {'name': 'Laptop', 'pr': 45000, 'qn': 2000},\n",
       " '1026': {'name': 'Tablet', 'pr': 65000, 'qn': 1500},\n",
       " '1027': {'name': 'Power Bank', 'pr': 3500, 'qn': 500},\n",
       " '1028': {'name': 'Face Wash', 'pr': 125, 'qn': 650},\n",
       " '1029': {'name': 'Perfume', 'pr': 135, 'qn': 540},\n",
       " '1030': {'name': 'Cheese', 'pr': 95, 'qn': 750},\n",
       " '1031': {'name': 'Chipotle Sauce', 'pr': 175, 'qn': 850},\n",
       " '1032': {'name': 'Fresh Cream', 'pr': 175, 'qn': 750},\n",
       " '1033': {'name': 'Cornetto Icecream', 'pr': 75, 'qn': 1000},\n",
       " '1034': {'name': 'Doritos Chips', 'pr': 95, 'qn': 900},\n",
       " '1035': {'name': 'Makeup Kit', 'pr': 4500, 'qn': 3000}}"
      ]
     },
     "execution_count": 54,
     "metadata": {},
     "output_type": "execute_result"
    }
   ],
   "source": [
    "record"
   ]
  },
  {
   "cell_type": "code",
   "execution_count": null,
   "metadata": {},
   "outputs": [],
   "source": []
  }
 ],
 "metadata": {
  "colab": {
   "name": "Adding new Products",
   "provenance": []
  },
  "kernelspec": {
   "display_name": "Python 3",
   "language": "python",
   "name": "python3"
  },
  "language_info": {
   "codemirror_mode": {
    "name": "ipython",
    "version": 3
   },
   "file_extension": ".py",
   "mimetype": "text/x-python",
   "name": "python",
   "nbconvert_exporter": "python",
   "pygments_lexer": "ipython3",
   "version": "3.8.3"
  }
 },
 "nbformat": 4,
 "nbformat_minor": 1
}
